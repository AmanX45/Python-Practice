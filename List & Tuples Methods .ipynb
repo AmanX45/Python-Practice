{
 "cells": [
  {
   "cell_type": "code",
   "execution_count": 1,
   "id": "8e8f8bfc-1f93-460b-8d89-886fc207ff2a",
   "metadata": {},
   "outputs": [],
   "source": [
    "# List Methods"
   ]
  },
  {
   "cell_type": "code",
   "execution_count": 13,
   "id": "c89d9994-778a-4255-9597-c95a46de920a",
   "metadata": {},
   "outputs": [
    {
     "name": "stdout",
     "output_type": "stream",
     "text": [
      "Before Append  ['Ajay', '85', '20', 'Himachal Pradesh']\n",
      "['Ajay', '85', '20', 'Himachal Pradesh', 'India']\n"
     ]
    }
   ],
   "source": [
    "# append\n",
    "x = [\"Ajay\",\"85\",\"20\",\"Himachal Pradesh\"]\n",
    "print(\"Before Append \" ,x)\n",
    "x.append(\"India\")\n",
    "print(x)\n"
   ]
  },
  {
   "cell_type": "code",
   "execution_count": 14,
   "id": "5480fcaa-27d7-47b7-b61c-f6bcde497ac2",
   "metadata": {},
   "outputs": [
    {
     "data": {
      "text/plain": [
       "[0, 1, 2, 8, 9, 20, 85]"
      ]
     },
     "execution_count": 14,
     "metadata": {},
     "output_type": "execute_result"
    }
   ],
   "source": [
    "# sort  ----> Sort in assending order\n",
    "x = [85,9,2,8,20,1,0]\n",
    "x.sort()\n",
    "x"
   ]
  },
  {
   "cell_type": "code",
   "execution_count": 18,
   "id": "ff3abfc2-9b4d-412d-b893-5c20c42c3f32",
   "metadata": {},
   "outputs": [
    {
     "data": {
      "text/plain": [
       "[52, 9, 8, 5, 2, 1]"
      ]
     },
     "execution_count": 18,
     "metadata": {},
     "output_type": "execute_result"
    }
   ],
   "source": [
    "# sort (reverse = true) ----> Sort in dessending order\n",
    "x = [5,9,52,8,1,2]\n",
    "x.sort(reverse = True)\n",
    "x"
   ]
  },
  {
   "cell_type": "code",
   "execution_count": 21,
   "id": "42088486-a7c6-45ae-bbde-44f20485b349",
   "metadata": {},
   "outputs": [
    {
     "data": {
      "text/plain": [
       "[88, 'Delhi', 'Rohan', 11, 18, 8, 87]"
      ]
     },
     "execution_count": 21,
     "metadata": {},
     "output_type": "execute_result"
    }
   ],
   "source": [
    "# reverse list ---> reverse the list as it is\n",
    "x = [87,8,18,11,\"Rohan\",\"Delhi\",88]\n",
    "x.reverse()\n",
    "x"
   ]
  },
  {
   "cell_type": "code",
   "execution_count": 24,
   "id": "582483b2-505d-4d1f-b3c8-e056448cc521",
   "metadata": {},
   "outputs": [
    {
     "data": {
      "text/plain": [
       "[42, 80, 64, 62, 5, 54, 524, 4]"
      ]
     },
     "execution_count": 24,
     "metadata": {},
     "output_type": "execute_result"
    }
   ],
   "source": [
    "#insert ---> insert element at index\n",
    "x = [80,64,62,5,54,524,4]\n",
    "x.insert(0,42)\n",
    "x"
   ]
  },
  {
   "cell_type": "code",
   "execution_count": 34,
   "id": "59758f46-2834-42d2-971e-ae63768b6e2f",
   "metadata": {},
   "outputs": [
    {
     "name": "stdout",
     "output_type": "stream",
     "text": [
      "remove  [45, 47, 20, 22, 85, 22, 'Abx', 'Delhi']\n"
     ]
    }
   ],
   "source": [
    "# remove  --->  removes the first occuring value in list\n",
    "\n",
    "x = [45,22,47,20,22,85,22,\"Abx\",\"Delhi\"]\n",
    "x.remove(22) \n",
    "print(\"remove \",x)\n"
   ]
  },
  {
   "cell_type": "code",
   "execution_count": 35,
   "id": "ed078d22-6aad-40ea-bdbf-2c7db1f05575",
   "metadata": {},
   "outputs": [
    {
     "name": "stdout",
     "output_type": "stream",
     "text": [
      "pop [80, 64, 62, 5, 54, 8, 24, 4]\n"
     ]
    }
   ],
   "source": [
    "# pop ---> removes value by indexing\n",
    "x = [80,64,62,5,54,85,8,24,4]\n",
    "x.pop(5)\n",
    "print(\"pop\",x)"
   ]
  },
  {
   "cell_type": "code",
   "execution_count": null,
   "id": "84a5319d-1467-4f14-b85e-6d1054beba8c",
   "metadata": {},
   "outputs": [],
   "source": []
  },
  {
   "cell_type": "code",
   "execution_count": 36,
   "id": "47ef0906-87b5-45d7-b4fc-98586dc47c9a",
   "metadata": {},
   "outputs": [],
   "source": [
    "## Tuples ()\n"
   ]
  },
  {
   "cell_type": "code",
   "execution_count": 40,
   "id": "66c100af-50fc-4a7b-9151-6b74c66727bb",
   "metadata": {},
   "outputs": [
    {
     "data": {
      "text/plain": [
       "tuple"
      ]
     },
     "execution_count": 40,
     "metadata": {},
     "output_type": "execute_result"
    }
   ],
   "source": [
    "x = (1,8,5,6,5)\n",
    "type(x)\n"
   ]
  },
  {
   "cell_type": "code",
   "execution_count": 42,
   "id": "5c2f583a-b755-4069-95a5-bf1c9d27de4a",
   "metadata": {},
   "outputs": [
    {
     "data": {
      "text/plain": [
       "tuple"
      ]
     },
     "execution_count": 42,
     "metadata": {},
     "output_type": "execute_result"
    }
   ],
   "source": [
    "# correct way to write a tuple\n",
    "x = (1) # ---> this is int\n",
    "type(x)\n",
    "\n",
    "y = (1,)\n",
    "type(y)"
   ]
  },
  {
   "cell_type": "code",
   "execution_count": 45,
   "id": "db4ca441-f0c3-4319-b45a-8375fdd5c6c1",
   "metadata": {},
   "outputs": [
    {
     "name": "stdout",
     "output_type": "stream",
     "text": [
      "(9, 2, 1)\n",
      "(0, 2, 8)\n"
     ]
    }
   ],
   "source": [
    "# slicing in tuple\n",
    "x = (1,8,9,2,1,0,2,8,9,5)\n",
    "print(x[2:5]) \n",
    "print(x[-5:-1])"
   ]
  },
  {
   "cell_type": "code",
   "execution_count": 46,
   "id": "10b8cf35-3720-4e06-9fcc-03b45d2c2a99",
   "metadata": {},
   "outputs": [],
   "source": [
    "# tuple methods "
   ]
  },
  {
   "cell_type": "code",
   "execution_count": 47,
   "id": "70ccb77c-c49b-4f3c-8aed-b3982fff5913",
   "metadata": {},
   "outputs": [
    {
     "data": {
      "text/plain": [
       "7"
      ]
     },
     "execution_count": 47,
     "metadata": {},
     "output_type": "execute_result"
    }
   ],
   "source": [
    "# index ---> find the index value of given  number\n",
    "x = (8,9,55,2,8,2,185,85,9,6,3)\n",
    "x.index(85)"
   ]
  },
  {
   "cell_type": "code",
   "execution_count": 48,
   "id": "6d987f32-f68e-4558-b044-d067617a9dd8",
   "metadata": {},
   "outputs": [
    {
     "data": {
      "text/plain": [
       "9"
      ]
     },
     "execution_count": 48,
     "metadata": {},
     "output_type": "execute_result"
    }
   ],
   "source": [
    "# count ---> count how many times the element occures\n",
    "x = (8,5,69,1,5,1,5,6,1,2,9,1,8,4,1,3,1,1,3,1,3,8,1,8)\n",
    "x.count(1)"
   ]
  },
  {
   "cell_type": "code",
   "execution_count": null,
   "id": "dc3ade7d-6292-48d7-9140-b458e6dd30b0",
   "metadata": {},
   "outputs": [],
   "source": []
  }
 ],
 "metadata": {
  "kernelspec": {
   "display_name": "Python 3 (ipykernel)",
   "language": "python",
   "name": "python3"
  },
  "language_info": {
   "codemirror_mode": {
    "name": "ipython",
    "version": 3
   },
   "file_extension": ".py",
   "mimetype": "text/x-python",
   "name": "python",
   "nbconvert_exporter": "python",
   "pygments_lexer": "ipython3",
   "version": "3.11.4"
  }
 },
 "nbformat": 4,
 "nbformat_minor": 5
}
