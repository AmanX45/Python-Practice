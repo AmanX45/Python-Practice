{
 "cells": [
  {
   "cell_type": "code",
   "execution_count": 1,
   "id": "4f6fbb73-0db0-4cf3-a172-e6247eb8de06",
   "metadata": {},
   "outputs": [],
   "source": [
    "# Loops"
   ]
  },
  {
   "cell_type": "markdown",
   "id": "15e3dede-5d6b-41e4-bbc2-de58b841b4c7",
   "metadata": {},
   "source": [
    "    "
   ]
  },
  {
   "cell_type": "code",
   "execution_count": 2,
   "id": "d41249e7-851c-42a7-9bfc-dc970afd7898",
   "metadata": {},
   "outputs": [
    {
     "name": "stdout",
     "output_type": "stream",
     "text": [
      "1\n",
      "2\n",
      "3\n",
      "4\n",
      "5\n",
      "6\n",
      "7\n",
      "8\n",
      "9\n",
      "10\n",
      "11\n",
      "12\n",
      "13\n",
      "14\n",
      "15\n",
      "16\n",
      "17\n",
      "18\n",
      "19\n",
      "20\n",
      "21\n",
      "22\n",
      "23\n",
      "24\n",
      "25\n",
      "26\n",
      "27\n",
      "28\n",
      "29\n",
      "30\n",
      "31\n",
      "32\n",
      "33\n",
      "34\n",
      "35\n",
      "36\n",
      "37\n",
      "38\n",
      "39\n",
      "40\n",
      "41\n",
      "42\n",
      "43\n",
      "44\n",
      "45\n",
      "46\n",
      "47\n",
      "48\n",
      "49\n",
      "50\n",
      "51\n",
      "52\n",
      "53\n",
      "54\n",
      "55\n",
      "56\n",
      "57\n",
      "58\n",
      "59\n",
      "60\n",
      "61\n",
      "62\n",
      "63\n",
      "64\n",
      "65\n",
      "66\n",
      "67\n",
      "68\n",
      "69\n",
      "70\n",
      "71\n",
      "72\n",
      "73\n",
      "74\n",
      "75\n",
      "76\n",
      "77\n",
      "78\n",
      "79\n",
      "80\n",
      "81\n",
      "82\n",
      "83\n",
      "84\n",
      "85\n",
      "86\n",
      "87\n",
      "88\n",
      "89\n",
      "90\n",
      "91\n",
      "92\n",
      "93\n",
      "94\n",
      "95\n",
      "96\n",
      "97\n",
      "98\n",
      "99\n",
      "100\n"
     ]
    }
   ],
   "source": [
    "# Print number from 1 -100\n",
    "num = 1\n",
    "while num <= 100 :\n",
    "    print(num)\n",
    "    num += 1 "
   ]
  },
  {
   "cell_type": "code",
   "execution_count": 3,
   "id": "fd98a446-d67f-4315-b8b5-2e4418bccb63",
   "metadata": {},
   "outputs": [
    {
     "name": "stdout",
     "output_type": "stream",
     "text": [
      "9\n",
      "8\n",
      "7\n",
      "6\n",
      "5\n",
      "4\n"
     ]
    }
   ],
   "source": [
    "# print numbers from 9 to 4 \n",
    "rnum = 9\n",
    "while rnum >= 4:\n",
    "    print(rnum)\n",
    "    rnum -= 1\n",
    "    "
   ]
  },
  {
   "cell_type": "code",
   "execution_count": 4,
   "id": "2bd54823-7142-4601-b3df-b3d19ca0b87c",
   "metadata": {},
   "outputs": [
    {
     "name": "stdin",
     "output_type": "stream",
     "text": [
      "Enter a number 9\n"
     ]
    },
    {
     "name": "stdout",
     "output_type": "stream",
     "text": [
      "9 X 1 = 9\n",
      "9 X 2 = 18\n",
      "9 X 3 = 27\n",
      "9 X 4 = 36\n",
      "9 X 5 = 45\n",
      "9 X 6 = 54\n",
      "9 X 7 = 63\n",
      "9 X 8 = 72\n",
      "9 X 9 = 81\n",
      "9 X 10 = 90\n"
     ]
    }
   ],
   "source": [
    "# print a multiplication table for a number\n",
    "x = int(input(\"Enter a number\"))\n",
    "ax = 1 \n",
    "while ax <= 10:\n",
    "    print(x ,\"X\",ax,\"=\",x*ax)\n",
    "    ax+=1"
   ]
  },
  {
   "cell_type": "code",
   "execution_count": 5,
   "id": "5ccfe3ef-cd1d-459d-92d7-81d794efb691",
   "metadata": {},
   "outputs": [
    {
     "name": "stdout",
     "output_type": "stream",
     "text": [
      "1\n",
      "4\n",
      "9\n",
      "16\n",
      "25\n",
      "36\n",
      "49\n",
      "64\n",
      "81\n",
      "100\n"
     ]
    }
   ],
   "source": [
    "# print the elements of following list using loop \n",
    "a = [1,4,9,16,25,36,49,64,81,100]\n",
    "ax= 0\n",
    "while ax < len(a):\n",
    "    print(a[ax])\n",
    "    ax+=1\n",
    "    \n",
    "    \n",
    "    "
   ]
  },
  {
   "cell_type": "code",
   "execution_count": 6,
   "id": "fea4629a-be28-4e32-899a-258b696cc03a",
   "metadata": {},
   "outputs": [
    {
     "name": "stdin",
     "output_type": "stream",
     "text": [
      "Enter number 5\n"
     ]
    },
    {
     "name": "stdout",
     "output_type": "stream",
     "text": [
      "finding...\n",
      "finding...\n",
      "finding...\n",
      "finding...\n",
      "finding...\n",
      "finding...\n",
      "finding...\n",
      "finding...\n",
      "finding...\n",
      "finding...\n",
      "finding...\n"
     ]
    }
   ],
   "source": [
    "#Search for number x in this tuple using loop \n",
    "# :(1,4,9,16,25,36,49,64,81,100)\n",
    "xb = int(input(\"Enter number\"))\n",
    "ax= (1,4,9,16,25,36,36,49,64,81,100)\n",
    "av = str(ax)\n",
    "\n",
    "i = 0 \n",
    "while i < len(ax):\n",
    "    \n",
    "    if xb == ax[i]:\n",
    "        print(xb,\"on index \" ,i)\n",
    "        \n",
    "    else :\n",
    "        print(\"finding...\")\n",
    "    i+=1"
   ]
  },
  {
   "cell_type": "code",
   "execution_count": 7,
   "id": "9b779035-f7fb-4bc0-a0fc-43f44e61746c",
   "metadata": {},
   "outputs": [],
   "source": [
    "# Break & Continue"
   ]
  },
  {
   "cell_type": "code",
   "execution_count": 8,
   "id": "66595300-dd6e-4463-be3f-ae55132509f4",
   "metadata": {},
   "outputs": [
    {
     "name": "stdout",
     "output_type": "stream",
     "text": [
      "1\n",
      "2\n",
      "3\n",
      "End of loop\n"
     ]
    }
   ],
   "source": [
    "# Break : used to terminate the loop when encountered\n",
    "i = 1\n",
    "while i <= 4 :\n",
    "    print(i)\n",
    "    if(i == 3):\n",
    "        break\n",
    "    i+=1\n",
    "print(\"End of loop\")    "
   ]
  },
  {
   "cell_type": "code",
   "execution_count": 9,
   "id": "ab649579-f0e7-4160-a25d-45504958ad71",
   "metadata": {},
   "outputs": [
    {
     "name": "stdout",
     "output_type": "stream",
     "text": [
      "1\n",
      "2\n",
      "4\n",
      "5\n",
      "6\n",
      "7\n",
      "8\n",
      "9\n",
      "10\n"
     ]
    }
   ],
   "source": [
    "# Continue : terminates execution in the current iteration & continues execution of the loop with the next iteration\n",
    "i = 1\n",
    "while i <= 10:\n",
    "    if(i==3): # if i = 3 , we will make it 4 then continue the loop\n",
    "        i += 1\n",
    "        continue # skip\n",
    "    \n",
    "    print(i)\n",
    "    i+=1"
   ]
  },
  {
   "cell_type": "code",
   "execution_count": null,
   "id": "ae222dcc-cfd0-497d-a2bf-e8338926d04c",
   "metadata": {},
   "outputs": [],
   "source": [
    "# from 1-10 skips all odd numbers\n",
    "i = 1\n",
    "while i <= 10:\n",
    "    if i%2 !=0:\n",
    "        i+=1\n",
    "        continue\n",
    "    print(i)\n",
    "    i+=1"
   ]
  },
  {
   "cell_type": "code",
   "execution_count": null,
   "id": "c8bdcc15-936a-40f3-af0b-ec644d263ec3",
   "metadata": {},
   "outputs": [],
   "source": []
  }
 ],
 "metadata": {
  "kernelspec": {
   "display_name": "Python 3 (ipykernel)",
   "language": "python",
   "name": "python3"
  },
  "language_info": {
   "codemirror_mode": {
    "name": "ipython",
    "version": 3
   },
   "file_extension": ".py",
   "mimetype": "text/x-python",
   "name": "python",
   "nbconvert_exporter": "python",
   "pygments_lexer": "ipython3",
   "version": "3.11.4"
  }
 },
 "nbformat": 4,
 "nbformat_minor": 5
}
