{
 "cells": [
  {
   "cell_type": "code",
   "execution_count": 8,
   "id": "1b169001-575f-4782-afd1-ec3c9cd8d5ad",
   "metadata": {},
   "outputs": [
    {
     "name": "stdout",
     "output_type": "stream",
     "text": [
      "{'Fruit': 'Apple', 'Vegetables': 'Patato', 'Wood': 'Window', 'Electronics': 'Computer', 'Processor': 'AMD Ryzen'}\n"
     ]
    },
    {
     "data": {
      "text/plain": [
       "{'Fruit': 'Apple',\n",
       " 'Vegetables': 'Carrot',\n",
       " 'Wood': 'Window',\n",
       " 'Electronics': 'Computer',\n",
       " 'Processor': 'AMD Ryzen',\n",
       " 'Weather': 'Rainy'}"
      ]
     },
     "execution_count": 8,
     "metadata": {},
     "output_type": "execute_result"
    }
   ],
   "source": [
    "# Dictionary\n",
    "dict = {\"Fruit\" : \"Apple\" , \"Vegetables\" : \"Patato\" , \"Wood\" : \"Window\" , \"Electronics\" : \"Computer\" , \"Processor\" : \"AMD Ryzen\"}\n",
    "print(dict)\n",
    "dict[\"Vegetables\"] = \"Carrot\" # change the value of key \n",
    "\n",
    "dict[\"Weather\"] = \"Rainy\" # we can also add a Key:Value pair \n",
    "dict\n"
   ]
  },
  {
   "cell_type": "code",
   "execution_count": 17,
   "id": "f71ed099-3dda-41cf-89c2-5320b42ccbe0",
   "metadata": {},
   "outputs": [
    {
     "data": {
      "text/plain": [
       "56"
      ]
     },
     "execution_count": 17,
     "metadata": {},
     "output_type": "execute_result"
    }
   ],
   "source": [
    "# Nested Dictionary\n",
    "dict =  {\"Name\" : \"Rohan\" , \n",
    "         \"Subject\" :{\n",
    "            \"Math\" : 91 ,\n",
    "            \"English\" : 80 ,\n",
    "            \"Hindi\" : 56 ,\n",
    "            \"Science\" : 85\n",
    "          } ,\n",
    "          \"Roll No.\": 101 , \n",
    "         \n",
    "        }\n",
    "dict\n",
    "\n",
    "dict[\"Subject\"][\"Hindi\"] # access nested data using mutiple square brackets "
   ]
  },
  {
   "cell_type": "code",
   "execution_count": 18,
   "id": "8c3a0035-3a54-47a1-8b30-73734e237985",
   "metadata": {},
   "outputs": [],
   "source": [
    "# Dictionary Methods "
   ]
  },
  {
   "cell_type": "code",
   "execution_count": 19,
   "id": "d36b133b-d5b9-4f1c-8efc-e7a87bcd0db7",
   "metadata": {},
   "outputs": [
    {
     "data": {
      "text/plain": [
       "dict_keys(['Fruit', 'Vegetables', 'Wood', 'Electronics', 'Processor'])"
      ]
     },
     "execution_count": 19,
     "metadata": {},
     "output_type": "execute_result"
    }
   ],
   "source": [
    "# dict.keys() ---> return all keys\n",
    "dict = {\"Fruit\" : \"Apple\" , \"Vegetables\" : \"Patato\" , \"Wood\" : \"Window\" , \"Electronics\" : \"Computer\" , \"Processor\" : \"AMD Ryzen\"}\n",
    "dict.keys() "
   ]
  },
  {
   "cell_type": "code",
   "execution_count": 20,
   "id": "c72e96f1-4d97-4450-80ac-7d79c552dc94",
   "metadata": {},
   "outputs": [
    {
     "data": {
      "text/plain": [
       "dict_values(['Rahul', '10th', 15, 'Chandigarh'])"
      ]
     },
     "execution_count": 20,
     "metadata": {},
     "output_type": "execute_result"
    }
   ],
   "source": [
    "# dict.values() ---> return all values\n",
    "dict= {\"Name\" : \"Rahul\" ,\"Class\" : \"10th\" , \"Roll No\":15 ,\"Location\" : \"Chandigarh\"}\n",
    "dict.values()"
   ]
  },
  {
   "cell_type": "code",
   "execution_count": 29,
   "id": "e84eb0fb-e60f-472a-8e40-ffe456e5b011",
   "metadata": {},
   "outputs": [
    {
     "data": {
      "text/plain": [
       "dict"
      ]
     },
     "execution_count": 29,
     "metadata": {},
     "output_type": "execute_result"
    }
   ],
   "source": [
    "#dict.items() ---> return all keys:values pair as tuple\n",
    "dict= {\"Name\" : \"Rahul\" ,\"Class\" : \"10th\" , \"Roll No\":15 ,\"Location\" : \"Chandigarh\"}\n",
    "\n",
    "ax  = dict.items()\n",
    "type(dict)"
   ]
  },
  {
   "cell_type": "code",
   "execution_count": 35,
   "id": "6da3108f-7e57-45b6-91b7-f96ffc695899",
   "metadata": {},
   "outputs": [
    {
     "data": {
      "text/plain": [
       "'Apple'"
      ]
     },
     "execution_count": 35,
     "metadata": {},
     "output_type": "execute_result"
    }
   ],
   "source": [
    "# dict.get(\"keys\")\n",
    "dict = {\"Fruit\" : \"Apple\" , \"Vegetables\" : \"Patato\" , \"Wood\" : \"Window\" , \"Electronics\" : \"Computer\" , \"Processor\" : \"AMD Ryzen\"}\n",
    "dict.get(\"Fruit\")\n"
   ]
  },
  {
   "cell_type": "code",
   "execution_count": null,
   "id": "9e16f7cc-0a74-43ba-a44e-490ea6abe662",
   "metadata": {},
   "outputs": [],
   "source": [
    "# dict.update{\"New key\" : \"New Values\"} ---> insert specific items to dictionary\n",
    "dict = {\"Fruit\" : \"Apple\" , \"Vegetables\" : \"Patato\" , \"Wood\" : \"Window\" , \"Electronics\" : \"Computer\" , \"Processor\" : \"AMD Ryzen\"}\n",
    "dict.update{}"
   ]
  }
 ],
 "metadata": {
  "kernelspec": {
   "display_name": "Python 3 (ipykernel)",
   "language": "python",
   "name": "python3"
  },
  "language_info": {
   "codemirror_mode": {
    "name": "ipython",
    "version": 3
   },
   "file_extension": ".py",
   "mimetype": "text/x-python",
   "name": "python",
   "nbconvert_exporter": "python",
   "pygments_lexer": "ipython3",
   "version": "3.11.4"
  }
 },
 "nbformat": 4,
 "nbformat_minor": 5
}
