{
 "cells": [
  {
   "cell_type": "code",
   "execution_count": 31,
   "id": "030a9211-fccd-412f-80d5-9c1c1b88b2ab",
   "metadata": {},
   "outputs": [
    {
     "name": "stdin",
     "output_type": "stream",
     "text": [
      "Enter First Number   5\n",
      "Enter Second Number   5\n",
      "Select a operation + , * , - , / , % , **     s\n"
     ]
    },
    {
     "name": "stdout",
     "output_type": "stream",
     "text": [
      "Please Enter a valid operation\n"
     ]
    }
   ],
   "source": [
    "# simple calculator\n",
    "first_no = float(input(\"Enter First Number  \"))\n",
    "second_no = float(input(\"Enter Second Number  \"))                 \n",
    "operation1 = input(\"Select a operation + , * , - , / , % , **    \")\n",
    "\n",
    "# calculation\n",
    "if operation1 == \"+\" :\n",
    "   print(first_no + second_no)\n",
    "    \n",
    "elif operation1 == \"-\" :\n",
    "       print(first_no - second_no)\n",
    "    \n",
    "elif operation1 == \"/\" :\n",
    "       print(first_no / second_no)\n",
    "    \n",
    "elif operation1 == \"*\" :\n",
    "       print(first_no * second_no)\n",
    "    \n",
    "elif operation1 == \"%\" :\n",
    "       print(first_no % second_no)\n",
    "    \n",
    "elif operation1 == \"**\" :\n",
    "       print(first_no ** second_no)\n",
    "\n",
    "else :\n",
    "    print(\"Please Enter a valid operation\") \n"
   ]
  },
  {
   "cell_type": "code",
   "execution_count": null,
   "id": "740ca1da-db06-4ebc-b407-282eabd7bff8",
   "metadata": {},
   "outputs": [],
   "source": []
  }
 ],
 "metadata": {
  "kernelspec": {
   "display_name": "Python 3 (ipykernel)",
   "language": "python",
   "name": "python3"
  },
  "language_info": {
   "codemirror_mode": {
    "name": "ipython",
    "version": 3
   },
   "file_extension": ".py",
   "mimetype": "text/x-python",
   "name": "python",
   "nbconvert_exporter": "python",
   "pygments_lexer": "ipython3",
   "version": "3.11.4"
  }
 },
 "nbformat": 4,
 "nbformat_minor": 5
}
