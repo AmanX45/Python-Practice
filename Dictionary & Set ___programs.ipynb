{
 "cells": [
  {
   "cell_type": "code",
   "execution_count": 16,
   "id": "4f8f50c7-09f6-453b-967b-c9500bc81a01",
   "metadata": {},
   "outputs": [
    {
     "data": {
      "text/plain": [
       "{'animal': 'elephant', 'car': ['mahindra', 'tata']}"
      ]
     },
     "execution_count": 16,
     "metadata": {},
     "output_type": "execute_result"
    }
   ],
   "source": [
    "# WAP store word meanings in a python dictionary \n",
    "# car : \"mahindra\" , \"tata\"\n",
    "# animal:\"elephant\"\n",
    "\n",
    "ab = {\n",
    "    \"animal\":\"elephant\" ,\n",
    "    \"car\": [\"mahindra\",\"tata\"]\n",
    "}\n",
    "ab\n"
   ]
  },
  {
   "cell_type": "code",
   "execution_count": 22,
   "id": "dc67a7fd-fbfa-460c-971a-e691a6f2183e",
   "metadata": {},
   "outputs": [
    {
     "data": {
      "text/plain": [
       "6"
      ]
     },
     "execution_count": 22,
     "metadata": {},
     "output_type": "execute_result"
    }
   ],
   "source": [
    " # You are given a list of subjects for students . Assume one classroom is required for 1\n",
    "# subject.How many classroom are needed by all students.\n",
    "\n",
    "ab = {\"python\",\"java\",\"c++\",\"python\",\"javascript\",\"java,\"\"python\",\"java\",\"c++\",\"c\"}\n",
    "len(ab)\n"
   ]
  },
  {
   "cell_type": "code",
   "execution_count": 27,
   "id": "495918fd-8390-470c-8464-ad63973c0871",
   "metadata": {},
   "outputs": [
    {
     "name": "stdin",
     "output_type": "stream",
     "text": [
      "Enter marks __Hindi   95\n",
      "Enter marks __English   85\n",
      "Enter marks __Math   75\n"
     ]
    },
    {
     "name": "stdout",
     "output_type": "stream",
     "text": [
      "{'Hindi': 95, 'English': 85, 'Math': 75}\n"
     ]
    }
   ],
   "source": [
    "# WAP to enter marks of 3 subjects from the user and store them in a dictionary .\n",
    "# Start with an empty dictionary & add one by one. Use subject name as key & marks as value\n",
    "\n",
    "subject = {}\n",
    "x = int(input(\"Enter marks __Hindi  \"))\n",
    "subject.update({\"Hindi\" : x})\n",
    "\n",
    "y = int(input(\"Enter marks __English  \"))\n",
    "subject.update({\"English\" : y})\n",
    "\n",
    "x=z = int(input(\"Enter marks __Math  \"))\n",
    "subject.update({\"Math\" : z})\n",
    "print(subject)"
   ]
  },
  {
   "cell_type": "code",
   "execution_count": 44,
   "id": "2c840e5c-7b9a-430b-a23f-55a0cf533677",
   "metadata": {},
   "outputs": [
    {
     "name": "stdin",
     "output_type": "stream",
     "text": [
      "Enter integer value  8\n",
      "Enter float value  8\n"
     ]
    },
    {
     "data": {
      "text/plain": [
       "{'8', 8.0}"
      ]
     },
     "execution_count": 44,
     "metadata": {},
     "output_type": "execute_result"
    }
   ],
   "source": [
    "##### WAP to figure out the way to store 8 & 8.0 seprate values in set\n",
    "# ac = {8,8.0} # example \n",
    "# ac\n",
    "# solution 1 by storing in the form of string\n",
    "ab = set() # ---> create empty set\n",
    "x = float(input(\"Enter integer value \"))\n",
    "y = str(input(\"Enter float value \"))\n",
    "ab.update({x , y})\n",
    "ab"
   ]
  },
  {
   "cell_type": "code",
   "execution_count": 45,
   "id": "b1e11e78-4e02-451a-ba23-8f6939ff4d78",
   "metadata": {},
   "outputs": [
    {
     "name": "stdout",
     "output_type": "stream",
     "text": [
      "{('int', 9), ('float', 9.0)}\n"
     ]
    }
   ],
   "source": [
    "# solution 2 \n",
    "val = {\n",
    "    (\"float\",9.0),\n",
    "    (\"int\",9)\n",
    "}\n",
    "print(val)"
   ]
  },
  {
   "cell_type": "code",
   "execution_count": null,
   "id": "137ca178-8712-4814-970b-34af36019365",
   "metadata": {},
   "outputs": [],
   "source": []
  }
 ],
 "metadata": {
  "kernelspec": {
   "display_name": "Python 3 (ipykernel)",
   "language": "python",
   "name": "python3"
  },
  "language_info": {
   "codemirror_mode": {
    "name": "ipython",
    "version": 3
   },
   "file_extension": ".py",
   "mimetype": "text/x-python",
   "name": "python",
   "nbconvert_exporter": "python",
   "pygments_lexer": "ipython3",
   "version": "3.11.4"
  }
 },
 "nbformat": 4,
 "nbformat_minor": 5
}
