{
 "cells": [
  {
   "cell_type": "code",
   "execution_count": 1,
   "id": "38f96435-564b-4ae1-8af6-5ccce4ce03e6",
   "metadata": {},
   "outputs": [
    {
     "name": "stdin",
     "output_type": "stream",
     "text": [
      "Enter a string aman chandel\n"
     ]
    },
    {
     "name": "stdout",
     "output_type": "stream",
     "text": [
      "12\n"
     ]
    }
   ],
   "source": [
    "# WAP to find the length of string from input\n",
    "stringlen = input(\"Enter a string\")\n",
    "print(len(stringlen))"
   ]
  },
  {
   "cell_type": "code",
   "execution_count": 3,
   "id": "97ac0d6a-79c0-4046-be54-add3c1d2d75c",
   "metadata": {},
   "outputs": [
    {
     "name": "stdin",
     "output_type": "stream",
     "text": [
      "Enter a string Hello & Welcome to my vlog\n"
     ]
    },
    {
     "name": "stdout",
     "output_type": "stream",
     "text": [
      "6\n"
     ]
    }
   ],
   "source": [
    "# WAP to find the index value of  & in a string\n",
    "\n",
    "a = input(\"Enter a string\")\n",
    "print(a.find(\"&\"))"
   ]
  },
  {
   "cell_type": "code",
   "execution_count": 4,
   "id": "c88808c0-b4cd-48c0-abcf-20518151f90c",
   "metadata": {},
   "outputs": [
    {
     "name": "stdout",
     "output_type": "stream",
     "text": [
      "3\n"
     ]
    }
   ],
   "source": [
    "# WAP to find the occurrence of @ in string\n",
    "a = \"hello my n@me is @m@n\"\n",
    "print(a.count(\"@\"))"
   ]
  },
  {
   "cell_type": "code",
   "execution_count": null,
   "id": "dd562d75-1d9e-4d27-97e8-42a2d4a8d392",
   "metadata": {},
   "outputs": [],
   "source": []
  }
 ],
 "metadata": {
  "kernelspec": {
   "display_name": "Python 3 (ipykernel)",
   "language": "python",
   "name": "python3"
  },
  "language_info": {
   "codemirror_mode": {
    "name": "ipython",
    "version": 3
   },
   "file_extension": ".py",
   "mimetype": "text/x-python",
   "name": "python",
   "nbconvert_exporter": "python",
   "pygments_lexer": "ipython3",
   "version": "3.11.4"
  }
 },
 "nbformat": 4,
 "nbformat_minor": 5
}
