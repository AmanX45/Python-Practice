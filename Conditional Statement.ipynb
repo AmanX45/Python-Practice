{
 "cells": [
  {
   "cell_type": "code",
   "execution_count": 5,
   "id": "a112cbe9-7bec-44ca-b691-b38f04af3625",
   "metadata": {},
   "outputs": [],
   "source": [
    "# Conditional Statement "
   ]
  },
  {
   "cell_type": "code",
   "execution_count": null,
   "id": "5489076a-c79a-4514-82c8-ead88cb2e675",
   "metadata": {},
   "outputs": [],
   "source": [
    "# WAP to check the person is eligible for vote or not.\n",
    "age = int(input(\"Enter person's age \"))\n",
    "if age >= 18 :\n",
    "   print(\"Person is eligible for vote ✅\")\n",
    "else : \n",
    "    print(\"Person is not eligible for vote ❌\")"
   ]
  },
  {
   "cell_type": "code",
   "execution_count": 10,
   "id": "3cef9f7a-9cf8-49bf-b1a6-c1c3169b21dc",
   "metadata": {},
   "outputs": [
    {
     "name": "stdin",
     "output_type": "stream",
     "text": [
      "Enter the traffic light colour 🚦 fhr\n"
     ]
    },
    {
     "name": "stdout",
     "output_type": "stream",
     "text": [
      "Please enter a valid value ❌❌❌ \n"
     ]
    }
   ],
   "source": [
    "# WAP to check the meaning of traffic light\n",
    "colour = input(\"Enter the traffic light colour 🚦\")\n",
    "if colour == \"Green\" :\n",
    "    print(\"You can go 🟢\")\n",
    "\n",
    "elif colour == \"Yellow\" :\n",
    "    print(\"Go Slow 🟡\")\n",
    "\n",
    "elif colour == \"Red\" :\n",
    "    print(\"Stop 🔴\")\n",
    "\n",
    "else : \n",
    "    print(\"Please enter a valid value ❌❌❌ \")"
   ]
  },
  {
   "cell_type": "code",
   "execution_count": 43,
   "id": "44b6b7dc-c3a9-483c-b19e-1cb1e57095b8",
   "metadata": {},
   "outputs": [
    {
     "name": "stdin",
     "output_type": "stream",
     "text": [
      "Enter students marks  411\n"
     ]
    },
    {
     "name": "stdout",
     "output_type": "stream",
     "text": [
      "Please enter a marks between 0 - 100\n"
     ]
    }
   ],
   "source": [
    "# WAP to check the grade of students by entering their marks\n",
    "\n",
    "marks = int(input(\"Enter students marks \"))\n",
    "\n",
    "if marks > 0 or marks < 100:\n",
    "    print(\"Please enter a marks between 0 - 100\")\n",
    "\n",
    "elif marks >= 90  :\n",
    "    print(\"A grade\")\n",
    "\n",
    "elif marks >= 70 and marks < 90 :\n",
    "    print(\"B grade\")\n",
    "    \n",
    "elif marks >= 50 and marks < 70 :\n",
    "    print(\"C grade\")\n",
    "    \n",
    "elif marks >= 33 and marks < 50 :\n",
    "    print(\"D grade\")\n",
    "    \n",
    "elif marks > 33:\n",
    "    print(\"Fail ❌\")\n",
    "\n",
    "else :\n",
    "    print(\"Please add a valid value\")"
   ]
  },
  {
   "cell_type": "code",
   "execution_count": 44,
   "id": "08bb5c97-fc2b-4a35-bf36-fe38376ba171",
   "metadata": {},
   "outputs": [],
   "source": [
    "# Nesting"
   ]
  },
  {
   "cell_type": "code",
   "execution_count": 52,
   "id": "89b5a1cb-b454-404c-beb7-780b06981a03",
   "metadata": {},
   "outputs": [
    {
     "name": "stdin",
     "output_type": "stream",
     "text": [
      "Enter person's age 56\n"
     ]
    },
    {
     "name": "stdout",
     "output_type": "stream",
     "text": [
      "Not eligible❌\n"
     ]
    }
   ],
   "source": [
    "# WAP to check the person is eligible for scholorship or not by adding their age \n",
    "\n",
    "age = int(input(\"Enter person's age\"))\n",
    "if age >= 18 :\n",
    "    if age < 26 :\n",
    "        print(\"Person is eligible for scholorship ✅\")\n",
    "    else:\n",
    "        print(\"Not eligible❌\")\n",
    "else :\n",
    "    print(\"Not eligible❌\")"
   ]
  },
  {
   "cell_type": "code",
   "execution_count": 70,
   "id": "bb502453-0bde-418c-9348-cba6fc931538",
   "metadata": {},
   "outputs": [
    {
     "name": "stdin",
     "output_type": "stream",
     "text": [
      "Enter a number to check it is odd or even 555\n"
     ]
    },
    {
     "name": "stdout",
     "output_type": "stream",
     "text": [
      "Number 555  is Odd\n"
     ]
    }
   ],
   "source": [
    "##### WAP to check the number is odd or even\n",
    "a = int(input(\"Enter a number to check it is odd or even\"))\n",
    "\n",
    "if a%2  == 0 :\n",
    "    print(\"Number \",a, \"is Even\")\n",
    "else :\n",
    "    print(\"Number\",a,\" is Odd\")"
   ]
  },
  {
   "cell_type": "code",
   "execution_count": 86,
   "id": "8a5a73c7-39f6-43fc-95e7-1142e5344273",
   "metadata": {},
   "outputs": [
    {
     "name": "stdin",
     "output_type": "stream",
     "text": [
      "Enter first number  5\n",
      "Enter second number  5\n",
      "Enter third number  5\n"
     ]
    },
    {
     "name": "stdout",
     "output_type": "stream",
     "text": [
      "please enter a valid value\n"
     ]
    }
   ],
   "source": [
    "# WAP to find greatest of 3 numbers \n",
    "first = float(input(\"Enter first number \"))\n",
    "second = float(input(\"Enter second number \"))\n",
    "third = float(input(\"Enter third number \"))\n",
    "\n",
    "if first > second and first > third:\n",
    "    print(\"First number \",first,\" is greatest\")\n",
    "    \n",
    "elif second > third and second > first :\n",
    "    print(\"Second number \",second,\" is greatest\")\n",
    "    \n",
    "elif third > first and third > second:\n",
    "    print(\"Third number \",third,\" is greatest\")\n",
    "else:\n",
    "    print(\"please enter a valid value\")"
   ]
  },
  {
   "cell_type": "code",
   "execution_count": 103,
   "id": "2d735050-2f94-4111-915d-3845b2812388",
   "metadata": {},
   "outputs": [
    {
     "name": "stdin",
     "output_type": "stream",
     "text": [
      "Enter a number 42\n"
     ]
    },
    {
     "name": "stdout",
     "output_type": "stream",
     "text": [
      "42 is multiple of 7 , because  6  x 7 = 42\n"
     ]
    }
   ],
   "source": [
    "# WAP to check the number is multiple of 7 or not \n",
    "a = int(input(\"Enter a number\"))\n",
    "x = int(a/7)\n",
    "if a % 7 == 0 :\n",
    "    print(a , \"is multiple of 7 , because \", x , \" x\" , \"7 =\", a )\n",
    "else : \n",
    "    \n",
    "    print(a ,\"is not a multiple of 7\")"
   ]
  },
  {
   "cell_type": "code",
   "execution_count": null,
   "id": "663425c1-0f96-4939-85e0-74f4b5232b63",
   "metadata": {},
   "outputs": [],
   "source": []
  }
 ],
 "metadata": {
  "kernelspec": {
   "display_name": "Python 3 (ipykernel)",
   "language": "python",
   "name": "python3"
  },
  "language_info": {
   "codemirror_mode": {
    "name": "ipython",
    "version": 3
   },
   "file_extension": ".py",
   "mimetype": "text/x-python",
   "name": "python",
   "nbconvert_exporter": "python",
   "pygments_lexer": "ipython3",
   "version": "3.11.4"
  }
 },
 "nbformat": 4,
 "nbformat_minor": 5
}
