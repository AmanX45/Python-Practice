{
 "cells": [
  {
   "cell_type": "code",
   "execution_count": 4,
   "id": "53a6300e-d86b-4fd4-a8ab-0705b64d2371",
   "metadata": {},
   "outputs": [
    {
     "name": "stdout",
     "output_type": "stream",
     "text": [
      "{1, 2, 3, 4, 'hello'}\n"
     ]
    },
    {
     "data": {
      "text/plain": [
       "set"
      ]
     },
     "execution_count": 4,
     "metadata": {},
     "output_type": "execute_result"
    }
   ],
   "source": [
    "# Sets \n",
    "set1 = {1,2,3,4,\"hello\"}\n",
    "print(set1)\n",
    "type(set1)"
   ]
  },
  {
   "cell_type": "code",
   "execution_count": 5,
   "id": "f8cb5b5f-cf22-4036-938a-cc460ba2ea73",
   "metadata": {},
   "outputs": [
    {
     "data": {
      "text/plain": [
       "{1, 2, 3, 4}"
      ]
     },
     "execution_count": 5,
     "metadata": {},
     "output_type": "execute_result"
    }
   ],
   "source": [
    "# set ignore duplicate values..Print unordered results....... \n",
    "setd = {1,2,3,4,4}\n",
    "setd"
   ]
  },
  {
   "cell_type": "code",
   "execution_count": 6,
   "id": "27f25790-98ec-4133-bb80-7ff0e6c7fc4d",
   "metadata": {},
   "outputs": [
    {
     "data": {
      "text/plain": [
       "4"
      ]
     },
     "execution_count": 6,
     "metadata": {},
     "output_type": "execute_result"
    }
   ],
   "source": [
    "# length\n",
    "setl = {1,2,3,4,4}\n",
    "len(setl)"
   ]
  },
  {
   "cell_type": "code",
   "execution_count": 7,
   "id": "f4bc5442-aa83-4d34-a64c-0478b3c6ca51",
   "metadata": {},
   "outputs": [
    {
     "data": {
      "text/plain": [
       "set"
      ]
     },
     "execution_count": 7,
     "metadata": {},
     "output_type": "execute_result"
    }
   ],
   "source": [
    "# create empty set\n",
    "E_set = set() \n",
    "type(E_set)"
   ]
  },
  {
   "cell_type": "code",
   "execution_count": 8,
   "id": "77a7d68b-68b6-411a-83e2-9341038dc6d3",
   "metadata": {},
   "outputs": [],
   "source": [
    "# set methods"
   ]
  },
  {
   "cell_type": "code",
   "execution_count": 9,
   "id": "86af4042-a56b-49dd-86fe-605202ce8e39",
   "metadata": {},
   "outputs": [
    {
     "data": {
      "text/plain": [
       "{1, 2, 5, 6, 85}"
      ]
     },
     "execution_count": 9,
     "metadata": {},
     "output_type": "execute_result"
    }
   ],
   "source": [
    "# 1 . set.add() ----> add element\n",
    "ab = {1,2,5,6}\n",
    "ab.add(85)\n",
    "ab"
   ]
  },
  {
   "cell_type": "code",
   "execution_count": 10,
   "id": "afc09f33-540b-44f6-9b1c-bbc3a7bf68a8",
   "metadata": {},
   "outputs": [
    {
     "data": {
      "text/plain": [
       "{2, 5, 78, 85}"
      ]
     },
     "execution_count": 10,
     "metadata": {},
     "output_type": "execute_result"
    }
   ],
   "source": [
    "# 2 .  set.remove() ----> remove element\n",
    "ab = {78,5,7,85,2}\n",
    "ab.remove(7)\n",
    "ab"
   ]
  },
  {
   "cell_type": "code",
   "execution_count": 11,
   "id": "bfe5c9b2-f684-4541-8064-3b0061adb4bd",
   "metadata": {},
   "outputs": [
    {
     "data": {
      "text/plain": [
       "set()"
      ]
     },
     "execution_count": 11,
     "metadata": {},
     "output_type": "execute_result"
    }
   ],
   "source": [
    "#  3 .  set.clear() ---> empties the set\n",
    "ab = {5,9,56,59,24}\n",
    "ab.clear()\n",
    "ab"
   ]
  },
  {
   "cell_type": "code",
   "execution_count": 19,
   "id": "f58b434e-aa87-49b1-b896-0e83edd6ffe6",
   "metadata": {},
   "outputs": [
    {
     "data": {
      "text/plain": [
       "{5, 6, 7, 8, 58, 563}"
      ]
     },
     "execution_count": 19,
     "metadata": {},
     "output_type": "execute_result"
    }
   ],
   "source": [
    "#  4  . set.pop() ---> remove random value\n",
    "ab = {58,8,2,6,563,2,5,7}\n",
    "ab.pop()\n",
    "ab"
   ]
  },
  {
   "cell_type": "code",
   "execution_count": 20,
   "id": "e1689919-3807-4c78-97fb-feb236789146",
   "metadata": {},
   "outputs": [],
   "source": [
    "# union & intersection"
   ]
  },
  {
   "cell_type": "code",
   "execution_count": 25,
   "id": "25c06aa5-1768-4228-8d3c-6b1f502268ae",
   "metadata": {},
   "outputs": [
    {
     "name": "stdout",
     "output_type": "stream",
     "text": [
      "{1, 2, 3, 66, 5, 6, 8, 9}\n"
     ]
    }
   ],
   "source": [
    "#  set.union(set) ---> combines both set values and return new\n",
    "set = {1,5,9,6,3}\n",
    "set2 = {8,9,2,66,8}\n",
    "print(set.union(set2))\n"
   ]
  },
  {
   "cell_type": "code",
   "execution_count": 27,
   "id": "a0b9bf41-1fd4-4aaf-8d71-29912f0ac024",
   "metadata": {},
   "outputs": [
    {
     "data": {
      "text/plain": [
       "{2, 5}"
      ]
     },
     "execution_count": 27,
     "metadata": {},
     "output_type": "execute_result"
    }
   ],
   "source": [
    "#   set.intersecion(set2) ---> combines common values and return new\n",
    "set = {8,5,2,96,3,3}\n",
    "set2 = {9,5,7,5,5,2}\n",
    "set.intersection(set2)"
   ]
  },
  {
   "cell_type": "code",
   "execution_count": null,
   "id": "317cfe27-5b96-4bd1-8c5f-e0ae54abf182",
   "metadata": {},
   "outputs": [],
   "source": []
  }
 ],
 "metadata": {
  "kernelspec": {
   "display_name": "Python 3 (ipykernel)",
   "language": "python",
   "name": "python3"
  },
  "language_info": {
   "codemirror_mode": {
    "name": "ipython",
    "version": 3
   },
   "file_extension": ".py",
   "mimetype": "text/x-python",
   "name": "python",
   "nbconvert_exporter": "python",
   "pygments_lexer": "ipython3",
   "version": "3.11.4"
  }
 },
 "nbformat": 4,
 "nbformat_minor": 5
}
