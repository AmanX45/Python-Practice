{
 "cells": [
  {
   "cell_type": "code",
   "execution_count": 4,
   "id": "88a08afa-2267-42cd-bea0-b6c5fe8aa42f",
   "metadata": {},
   "outputs": [
    {
     "name": "stdin",
     "output_type": "stream",
     "text": [
      "Enter first name  fhv\n",
      "Enter second name  \n",
      "Enter third name  \n"
     ]
    },
    {
     "name": "stdout",
     "output_type": "stream",
     "text": [
      "('fhv', '', '')\n"
     ]
    }
   ],
   "source": [
    "# WAP ask user to enter the name of 3 favorite destinations & store them in a list\n",
    "abx = []\n",
    "x = input(\"Enter first name \")\n",
    "y = input(\"Enter second name \")\n",
    "z = input(\"Enter third name \")\n",
    "\n",
    "\n",
    "abx = x , y  , z \n",
    "print(abx)"
   ]
  },
  {
   "cell_type": "code",
   "execution_count": 42,
   "id": "fc8a905f-372b-49fb-b95b-e7eb52385794",
   "metadata": {},
   "outputs": [
    {
     "name": "stdin",
     "output_type": "stream",
     "text": [
      "Enter some values RACECAR\n"
     ]
    },
    {
     "name": "stdout",
     "output_type": "stream",
     "text": [
      "['R', 'A', 'C', 'E', 'C', 'A', 'R']\n",
      "This is a palindrome\n"
     ]
    }
   ],
   "source": [
    "# WAP to check if the list contain a palindrome or not\n",
    "b = input(\"Enter some values\")\n",
    "ab =list(b)\n",
    "c  = ab.copy()\n",
    "c.reverse()\n",
    "print(c)\n",
    "if ab == c :\n",
    "    print(\"This is a palindrome\")\n",
    "else : \n",
    "    print(\"This is not palindrome\")"
   ]
  },
  {
   "cell_type": "code",
   "execution_count": 60,
   "id": "2826a139-0203-4785-a856-55cc28fb8aae",
   "metadata": {},
   "outputs": [
    {
     "name": "stdout",
     "output_type": "stream",
     "text": [
      "7\n",
      "Before sorting ['A', 'B', 'A', 'C', 'A', 'A', 'E', 'D', 'A', 'B', 'A', 'C', 'B', 'C', 'A', 'D', 'E']\n",
      "After sorting ['A', 'A', 'A', 'A', 'A', 'A', 'A', 'B', 'B', 'B', 'C', 'C', 'C', 'D', 'D', 'E', 'E']\n"
     ]
    }
   ],
   "source": [
    "# WAP to count the number of students with A grade\n",
    "ax = (\"A\",\"B\",\"A\",\"C\",\"A\",\"A\",\"E\",\"D\",\"A\",\"B\",\"A\",\"C\",\"B\",\"C\",\"A\",\"D\",\"E\")\n",
    "print(ax.count(\"A\"))\n",
    "# store above values in list and sort them A - E\n",
    "ax = list(ax)\n",
    "print(\"Before sorting\",ax)\n",
    "ax.sort()\n",
    "print(\"After sorting\",ax)"
   ]
  },
  {
   "cell_type": "code",
   "execution_count": null,
   "id": "9185d831-4e22-486c-aadb-9fd780919b35",
   "metadata": {},
   "outputs": [],
   "source": []
  }
 ],
 "metadata": {
  "kernelspec": {
   "display_name": "Python 3 (ipykernel)",
   "language": "python",
   "name": "python3"
  },
  "language_info": {
   "codemirror_mode": {
    "name": "ipython",
    "version": 3
   },
   "file_extension": ".py",
   "mimetype": "text/x-python",
   "name": "python",
   "nbconvert_exporter": "python",
   "pygments_lexer": "ipython3",
   "version": "3.11.4"
  }
 },
 "nbformat": 4,
 "nbformat_minor": 5
}
