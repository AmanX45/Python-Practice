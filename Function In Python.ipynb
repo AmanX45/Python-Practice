{
 "cells": [
  {
   "cell_type": "code",
   "execution_count": 1,
   "id": "acc484de-ac8c-4f10-b8fb-d1afd362715b",
   "metadata": {},
   "outputs": [],
   "source": [
    "# Function in Python"
   ]
  },
  {
   "cell_type": "code",
   "execution_count": 12,
   "id": "647e5fda-8746-4361-970e-156939c2dc78",
   "metadata": {},
   "outputs": [],
   "source": [
    "def cal_sum(a,b):\n",
    "    sum = a+b\n",
    "    print(sum)\n",
    "    return sum"
   ]
  },
  {
   "cell_type": "code",
   "execution_count": 13,
   "id": "21075591-e8f4-42ce-a9ad-8f1fd115a918",
   "metadata": {},
   "outputs": [
    {
     "name": "stdout",
     "output_type": "stream",
     "text": [
      "3\n"
     ]
    },
    {
     "data": {
      "text/plain": [
       "3"
      ]
     },
     "execution_count": 13,
     "metadata": {},
     "output_type": "execute_result"
    }
   ],
   "source": [
    "cal_sum(1,2)\n"
   ]
  },
  {
   "cell_type": "code",
   "execution_count": 14,
   "id": "3c11eb62-b953-4eda-a1a7-e9e784457c24",
   "metadata": {},
   "outputs": [
    {
     "name": "stdout",
     "output_type": "stream",
     "text": [
      "17\n"
     ]
    },
    {
     "data": {
      "text/plain": [
       "17"
      ]
     },
     "execution_count": 14,
     "metadata": {},
     "output_type": "execute_result"
    }
   ],
   "source": [
    "cal_sum(8,9)"
   ]
  },
  {
   "cell_type": "code",
   "execution_count": 22,
   "id": "893930c7-e3cd-43aa-a6d8-30080b3a8ba5",
   "metadata": {},
   "outputs": [],
   "source": [
    "def cal_s(a,b): # function definition # a,b ---> parameters \n",
    "    return a+b"
   ]
  },
  {
   "cell_type": "code",
   "execution_count": 24,
   "id": "e0b4d4f4-c3f4-446b-810e-bf1cb6c91a28",
   "metadata": {},
   "outputs": [
    {
     "data": {
      "text/plain": [
       "40"
      ]
     },
     "execution_count": 24,
     "metadata": {},
     "output_type": "execute_result"
    }
   ],
   "source": [
    "sum = cal_s(30,10) # function call ---> 30,10---> arguments\n",
    "sum"
   ]
  },
  {
   "cell_type": "code",
   "execution_count": 33,
   "id": "36632326-94ba-4765-876e-96c75cc625b7",
   "metadata": {},
   "outputs": [],
   "source": [
    "# print hello\n",
    "def print1():\n",
    "     print(\"hello\")\n"
   ]
  },
  {
   "cell_type": "code",
   "execution_count": 34,
   "id": "7a42e7d8-634a-43af-b9e3-1d24d9d4f74d",
   "metadata": {},
   "outputs": [
    {
     "name": "stdout",
     "output_type": "stream",
     "text": [
      "hello\n",
      "hello\n",
      "hello\n",
      "hello\n"
     ]
    }
   ],
   "source": [
    "print1()\n",
    "print1()\n",
    "print1()\n",
    "print1()\n"
   ]
  },
  {
   "cell_type": "code",
   "execution_count": 43,
   "id": "f666d525-75c1-4dff-9d4f-6b0138192701",
   "metadata": {},
   "outputs": [],
   "source": [
    "# WAP to make a function which calculate the average of 3 numbers\n",
    "def average_cal(a,b,c):\n",
    "    return (a+b+c) /3 \n"
   ]
  },
  {
   "cell_type": "code",
   "execution_count": 45,
   "id": "d756edd7-9e4e-403b-8707-05f7622018b7",
   "metadata": {},
   "outputs": [
    {
     "data": {
      "text/plain": [
       "72.33333333333333"
      ]
     },
     "execution_count": 45,
     "metadata": {},
     "output_type": "execute_result"
    }
   ],
   "source": [
    "average_cal(85,92,40)"
   ]
  },
  {
   "cell_type": "code",
   "execution_count": 47,
   "id": "6a4a7ccc-009d-4998-8cd7-225b3977412b",
   "metadata": {},
   "outputs": [
    {
     "name": "stdin",
     "output_type": "stream",
     "text": [
      "Enter 1st value  68845\n",
      "Enter 2nd value  5\n",
      "Enter 3rd value  6\n"
     ]
    },
    {
     "data": {
      "text/plain": [
       "22952.0"
      ]
     },
     "execution_count": 47,
     "metadata": {},
     "output_type": "execute_result"
    }
   ],
   "source": [
    "a = float(input(\"Enter 1st value \"))\n",
    "b = float(input(\"Enter 2nd value \"))\n",
    "c = float(input(\"Enter 3rd value \"))\n",
    "average_cal(a,b,c)"
   ]
  },
  {
   "cell_type": "code",
   "execution_count": 54,
   "id": "ff28fbe2-4113-4101-9db2-c43eb7d6ca5a",
   "metadata": {},
   "outputs": [],
   "source": [
    " # Calculate the multiplication of two numbers\n",
    "def cal(a,b=2): # \n",
    "    print(a*b)\n",
    "    return a*b "
   ]
  },
  {
   "cell_type": "code",
   "execution_count": 57,
   "id": "78224849-ffe0-4b06-9a74-972286ec66b8",
   "metadata": {},
   "outputs": [
    {
     "name": "stdout",
     "output_type": "stream",
     "text": [
      "2\n"
     ]
    },
    {
     "data": {
      "text/plain": [
       "2"
      ]
     },
     "execution_count": 57,
     "metadata": {},
     "output_type": "execute_result"
    }
   ],
   "source": [
    "cal(1)"
   ]
  },
  {
   "cell_type": "code",
   "execution_count": 62,
   "id": "60847dbb-4a7e-4827-a8dc-78db691d2e0a",
   "metadata": {},
   "outputs": [],
   "source": [
    " # WAF to print the length of a List\n",
    "# ax = list(input(\"\"))\n",
    "def lis(a):\n",
    "    print(len(a))\n",
    "    return a \n",
    "    "
   ]
  },
  {
   "cell_type": "code",
   "execution_count": 64,
   "id": "ad554838-1c3f-4c27-83e1-1d75693b544d",
   "metadata": {},
   "outputs": [
    {
     "name": "stdout",
     "output_type": "stream",
     "text": [
      "7\n"
     ]
    },
    {
     "data": {
      "text/plain": [
       "['Ducati', 'BMW', 'Kawasaki', 'KTM', 'Bajaj', 'Yamaha', 'Hero']"
      ]
     },
     "execution_count": 64,
     "metadata": {},
     "output_type": "execute_result"
    }
   ],
   "source": [
    "lis([\"Ducati\",\"BMW\",\"Kawasaki\",\"KTM\",\"Bajaj\",\"Yamaha\",\"Hero\"])"
   ]
  },
  {
   "cell_type": "code",
   "execution_count": 87,
   "id": "0ed2ab60-6dfe-42ce-801c-ea005b5521ea",
   "metadata": {},
   "outputs": [],
   "source": [
    "# WAF to print the elements of a list in a single line.\n",
    "def list_single(list):\n",
    "    print(len(list))"
   ]
  },
  {
   "cell_type": "code",
   "execution_count": 88,
   "id": "88c01b9e-7e87-4dfc-beb4-7f34ed563a15",
   "metadata": {},
   "outputs": [],
   "source": [
    "def print_list(list):\n",
    "    for item in list:\n",
    "        print(item, end = \" \")"
   ]
  },
  {
   "cell_type": "code",
   "execution_count": 89,
   "id": "3dd2c000-2a7f-4a6f-81f9-2772c5bd7cf1",
   "metadata": {},
   "outputs": [
    {
     "name": "stdout",
     "output_type": "stream",
     "text": [
      "Ducati BMW Kawasaki KTM Bajaj Yamaha "
     ]
    }
   ],
   "source": [
    "print_list([\"Ducati\",\"BMW\",\"Kawasaki\",\"KTM\",\"Bajaj\",\"Yamaha\"])"
   ]
  },
  {
   "cell_type": "code",
   "execution_count": 105,
   "id": "6551e845-f570-4438-b036-d2b9998c7853",
   "metadata": {},
   "outputs": [],
   "source": [
    "# WAF to find the factorial of n \n",
    "def factorial(a):\n",
    "    sum = 1 \n",
    "    for i in range(1,a+1):\n",
    "        sum*=i\n",
    "    print(sum)    \n",
    "        "
   ]
  },
  {
   "cell_type": "code",
   "execution_count": 107,
   "id": "7cd5fa3b-26ac-41bf-9eaa-79ba9bf21524",
   "metadata": {},
   "outputs": [
    {
     "name": "stdout",
     "output_type": "stream",
     "text": [
      "24\n"
     ]
    }
   ],
   "source": [
    "factorial(4)"
   ]
  },
  {
   "cell_type": "code",
   "execution_count": 116,
   "id": "efab2107-d5d1-417e-8c01-eaa3f7861e80",
   "metadata": {},
   "outputs": [],
   "source": [
    "# WAP to convert USD to INR \n",
    "def usd_inr(a):\n",
    "    ax = a*87.58\n",
    "    print(a,\"USD =\",ax,\"INR\")\n",
    "    return ax"
   ]
  },
  {
   "cell_type": "code",
   "execution_count": 118,
   "id": "7a8898b7-0a3d-48ff-ab17-47b5eacee43b",
   "metadata": {},
   "outputs": [
    {
     "name": "stdout",
     "output_type": "stream",
     "text": [
      "100 USD = 8758.0 INR\n"
     ]
    },
    {
     "data": {
      "text/plain": [
       "8758.0"
      ]
     },
     "execution_count": 118,
     "metadata": {},
     "output_type": "execute_result"
    }
   ],
   "source": [
    "usd_inr(100)"
   ]
  },
  {
   "cell_type": "code",
   "execution_count": 121,
   "id": "6434682e-9fec-4a88-af38-296b7556d4eb",
   "metadata": {},
   "outputs": [],
   "source": [
    "# WAP to conver INR into USD\n",
    "def inr_usd(b):\n",
    "    bx = b/87.58\n",
    "    print(b,\"INR = \",bx,\"USD\")\n",
    "    return bx"
   ]
  },
  {
   "cell_type": "code",
   "execution_count": 125,
   "id": "5683ac1e-174e-4d98-8077-dd4a5705836a",
   "metadata": {},
   "outputs": [
    {
     "name": "stdout",
     "output_type": "stream",
     "text": [
      "100 INR =  1.1418131993605847 USD\n"
     ]
    },
    {
     "data": {
      "text/plain": [
       "1.1418131993605847"
      ]
     },
     "execution_count": 125,
     "metadata": {},
     "output_type": "execute_result"
    }
   ],
   "source": [
    "inr_usd(100)"
   ]
  },
  {
   "cell_type": "code",
   "execution_count": null,
   "id": "3e149003-8189-4969-9737-9b78f76e7347",
   "metadata": {},
   "outputs": [],
   "source": []
  }
 ],
 "metadata": {
  "kernelspec": {
   "display_name": "Python 3 (ipykernel)",
   "language": "python",
   "name": "python3"
  },
  "language_info": {
   "codemirror_mode": {
    "name": "ipython",
    "version": 3
   },
   "file_extension": ".py",
   "mimetype": "text/x-python",
   "name": "python",
   "nbconvert_exporter": "python",
   "pygments_lexer": "ipython3",
   "version": "3.11.4"
  }
 },
 "nbformat": 4,
 "nbformat_minor": 5
}
