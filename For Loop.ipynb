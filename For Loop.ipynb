{
 "cells": [
  {
   "cell_type": "code",
   "execution_count": 1,
   "id": "c2dc9527-61ce-471c-8d39-2fb85f7fb539",
   "metadata": {},
   "outputs": [
    {
     "name": "stdout",
     "output_type": "stream",
     "text": [
      "1\n",
      "8\n",
      "6\n",
      "9\n",
      "6\n",
      "6\n"
     ]
    }
   ],
   "source": [
    "# For Loop\n",
    "ax = [1,8,6,9,6,6]\n",
    "for i in ax :\n",
    "    print(i)"
   ]
  },
  {
   "cell_type": "code",
   "execution_count": 2,
   "id": "5c018717-9bff-4c13-b1ec-3d20a557ab0d",
   "metadata": {},
   "outputs": [
    {
     "name": "stdout",
     "output_type": "stream",
     "text": [
      "1\n",
      "51\n",
      "4\n",
      "5\n",
      "2\n",
      "6\n"
     ]
    }
   ],
   "source": [
    "tup = (1,51,4,5,2,6)\n",
    "for i in tup :\n",
    "    print(i)"
   ]
  },
  {
   "cell_type": "code",
   "execution_count": 3,
   "id": "1cccdaa8-daf4-4436-aee5-db6ce3e3094b",
   "metadata": {},
   "outputs": [
    {
     "name": "stdout",
     "output_type": "stream",
     "text": [
      "S\n",
      "t\n",
      "r\n",
      "i\n",
      "n\n",
      "g\n"
     ]
    }
   ],
   "source": [
    "str = \"String\"\n",
    "for i in str :\n",
    "    print(i)"
   ]
  },
  {
   "cell_type": "code",
   "execution_count": 4,
   "id": "d9f522e3-ef44-4c0d-b412-e10c525f0d2a",
   "metadata": {},
   "outputs": [
    {
     "name": "stdout",
     "output_type": "stream",
     "text": [
      "1\n",
      "5\n",
      "9\n",
      "7\n",
      "3\n",
      "6\n",
      "85\n",
      "9\n",
      "2\n",
      "1\n"
     ]
    }
   ],
   "source": [
    "# print the elements of following list using a loop\n",
    "lst = [1,5,9,7,3,6,85,9,2,1]\n",
    "for i in lst:\n",
    "    print(i)"
   ]
  },
  {
   "cell_type": "code",
   "execution_count": null,
   "id": "8d020577-d7d1-482a-bb02-2c75dc9053d5",
   "metadata": {},
   "outputs": [],
   "source": [
    "# search a number in tuple using loop ---> (1,8,9,3,6,1,2,8,9,5,1,4,85)\n",
    "# Linear Search ---> search in single line\n",
    "x = int(input(\"Enter a number\"))\n",
    "tup = (1,8,9,3,6,1,2,8,9,5,1,4,85)\n",
    "idx = 0\n",
    "for i in tup :\n",
    "    if x == i :\n",
    "        print(\"Found at index \",idx)\n",
    "    idx += 1    "
   ]
  },
  {
   "cell_type": "code",
   "execution_count": null,
   "id": "34de041b-aa78-4dfd-a17a-10b1d90bf501",
   "metadata": {},
   "outputs": [],
   "source": [
    "# range (start,stop,step)  ---> start by default 0 ---> stop = n-1 ---> step = 1 by default\n",
    "seq = range(11)\n",
    "for i in seq :\n",
    "    print(i)"
   ]
  },
  {
   "cell_type": "code",
   "execution_count": null,
   "id": "5ce7c377-113c-42fb-85d6-8bdb7f2c6b4c",
   "metadata": {},
   "outputs": [],
   "source": [
    "for i in range(5): # stop = n-1\n",
    "    print(i)"
   ]
  },
  {
   "cell_type": "code",
   "execution_count": null,
   "id": "124157d7-73fb-42b4-b545-969b30ef3be8",
   "metadata": {},
   "outputs": [],
   "source": [
    "for i in range(1,9): # Start , stop = n-1\n",
    "    print(i)"
   ]
  },
  {
   "cell_type": "code",
   "execution_count": null,
   "id": "abcb7999-d738-467a-ac1c-591b9e03a46a",
   "metadata": {},
   "outputs": [],
   "source": [
    "for i in range(3,31,3): # start , stop = n-1, step \n",
    "    print(i)"
   ]
  },
  {
   "cell_type": "code",
   "execution_count": null,
   "id": "711d2173-06dc-4be0-ac4f-a5b3a0fabc8f",
   "metadata": {},
   "outputs": [],
   "source": [
    "# print even numbers from 1- 10 using range \n",
    "for i in range(1,11):\n",
    "    if i%2 == 0:\n",
    "        print(i)\n",
    "         \n",
    "print(\"All even numbers from  1 to 10\")"
   ]
  },
  {
   "cell_type": "code",
   "execution_count": null,
   "id": "fce04895-1aad-4039-987f-d2944a7e3a62",
   "metadata": {},
   "outputs": [],
   "source": [
    "# we can also take range as user input\n",
    "x = int(input(\"Enter a number\"))\n",
    "y = int(input(\"Enter a number\"))\n",
    "z = int(input(\"Enter a number\"))\n",
    "r = range(x,y,z)\n",
    "for i in r :\n",
    "    print(i)\n",
    "\n"
   ]
  },
  {
   "cell_type": "code",
   "execution_count": null,
   "id": "44617df2-6ed5-461e-8c3c-dfd50a3d382d",
   "metadata": {},
   "outputs": [],
   "source": [
    " # Using for & range()"
   ]
  },
  {
   "cell_type": "code",
   "execution_count": null,
   "id": "d2cc32dc-d3c9-4d21-9713-185a64341c06",
   "metadata": {},
   "outputs": [],
   "source": [
    "# WAP print numbers from 1-100\n",
    "for i in range(1,101):\n",
    "    print(i)"
   ]
  },
  {
   "cell_type": "code",
   "execution_count": null,
   "id": "7ac255ab-f7b7-42d5-9b9b-c784a2ae4ef7",
   "metadata": {},
   "outputs": [],
   "source": [
    "# WAP print numbers from 100 - 1 \n",
    "for i in range(100,0,-1):\n",
    "    print(i)"
   ]
  },
  {
   "cell_type": "code",
   "execution_count": null,
   "id": "f0bb04da-3647-46a6-838e-9babfea56e24",
   "metadata": {},
   "outputs": [],
   "source": [
    "# WAP to print the multiplication table of a number n\n",
    "ax = int(input(\"Enter a number\"))\n",
    "for i in range(1,11):\n",
    "    print(ax,\"X\",i,\"=\",ax*i)"
   ]
  },
  {
   "cell_type": "code",
   "execution_count": null,
   "id": "28ff46ef-8588-4558-8e78-726660e3153c",
   "metadata": {},
   "outputs": [],
   "source": [
    " # Pass statement ---> null statement , used as placeholder for future\n",
    "for i in range(5):\n",
    "    pass\n",
    "print(\"Empty\")"
   ]
  },
  {
   "cell_type": "code",
   "execution_count": null,
   "id": "2fea744a-ade4-4ec1-ac06-3f9e8a93f1e1",
   "metadata": {},
   "outputs": [],
   "source": [
    " # Pass statement ---> null statement , used as placeholder for future\n",
    "if i > 5:\n",
    "    pass\n",
    "print(\"Empty\")"
   ]
  },
  {
   "cell_type": "code",
   "execution_count": null,
   "id": "f3e004e4-4d66-437b-8149-25980aeb2854",
   "metadata": {},
   "outputs": [],
   "source": [
    " # WAP to find the sum of first n natural numbers.\n",
    "ax = int(input(\"Enter any number\"))\n",
    "sum = 0\n",
    "for i in range(1,ax+1):\n",
    "    sum+=i\n",
    "print(\"total sum of \" ,ax , \"=\",sum)    "
   ]
  },
  {
   "cell_type": "code",
   "execution_count": 2,
   "id": "d52a2741-fb26-4772-94fd-ffd5e2269f7e",
   "metadata": {},
   "outputs": [
    {
     "name": "stdin",
     "output_type": "stream",
     "text": [
      "Enter any number 88\n"
     ]
    },
    {
     "name": "stdout",
     "output_type": "stream",
     "text": [
      "Factorial of  88 = 185482642257398439114796845645546284380220968949399346684421580986889562184028199319100141244804501828416633516851200000000000000000000\n"
     ]
    }
   ],
   "source": [
    " # WAP to find the factorial of first n numbers.\n",
    "ax = int(input(\"Enter any number\"))\n",
    "sum = 1\n",
    "for i in range(1,ax+1):\n",
    "    sum*=i\n",
    "print(\"Factorial of \",ax,\"=\",sum)    "
   ]
  },
  {
   "cell_type": "code",
   "execution_count": null,
   "id": "78170494-5ad6-4d48-81bc-f54b4341e673",
   "metadata": {},
   "outputs": [],
   "source": []
  }
 ],
 "metadata": {
  "kernelspec": {
   "display_name": "Python 3 (ipykernel)",
   "language": "python",
   "name": "python3"
  },
  "language_info": {
   "codemirror_mode": {
    "name": "ipython",
    "version": 3
   },
   "file_extension": ".py",
   "mimetype": "text/x-python",
   "name": "python",
   "nbconvert_exporter": "python",
   "pygments_lexer": "ipython3",
   "version": "3.11.4"
  }
 },
 "nbformat": 4,
 "nbformat_minor": 5
}
