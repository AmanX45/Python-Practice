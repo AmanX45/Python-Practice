{
 "cells": [
  {
   "cell_type": "code",
   "execution_count": 2,
   "id": "e3c01f8b-db00-4b58-8f01-7d26b0dcb72a",
   "metadata": {},
   "outputs": [
    {
     "name": "stdin",
     "output_type": "stream",
     "text": [
      "Enter first number 5\n",
      "Enter second number 20\n"
     ]
    },
    {
     "name": "stdout",
     "output_type": "stream",
     "text": [
      "12.5\n"
     ]
    }
   ],
   "source": [
    "# WAP to print average of two numbers from input\n",
    "a = float(input(\"Enter first number\"))\n",
    "b = float(input(\"Enter second number\"))\n",
    "c = a + b \n",
    "print(c / 2 )"
   ]
  },
  {
   "cell_type": "code",
   "execution_count": 6,
   "id": "28be59a5-c440-4ad2-9255-bf55b6627a4a",
   "metadata": {},
   "outputs": [
    {
     "name": "stdin",
     "output_type": "stream",
     "text": [
      "Enter first number 25\n",
      "Enter second number 25\n"
     ]
    },
    {
     "name": "stdout",
     "output_type": "stream",
     "text": [
      "True\n"
     ]
    }
   ],
   "source": [
    "# WAP check and print true if a is greater than or  equal to b , if not print false \n",
    "a = float(input(\"Enter first number\"))\n",
    "b = float(input(\"Enter second number\"))\n",
    "if a > b  or a == b :\n",
    "    print(\"True\") \n",
    "else : \n",
    "    print(\"False\")"
   ]
  },
  {
   "cell_type": "code",
   "execution_count": 9,
   "id": "c4a88fa8-927f-42ac-8aac-583fde12b087",
   "metadata": {},
   "outputs": [
    {
     "name": "stdin",
     "output_type": "stream",
     "text": [
      "Enter first number 88\n",
      "Enter second number 555\n"
     ]
    },
    {
     "name": "stdout",
     "output_type": "stream",
     "text": [
      "False\n"
     ]
    }
   ],
   "source": [
    "# WAP check and print true if a is greater than or  equal to b , if not print false  without using IF Else\n",
    "\n",
    "a = float(input(\"Enter first number\"))\n",
    "b = float(input(\"Enter second number\"))\n",
    "\n",
    "print(a>=b)"
   ]
  },
  {
   "cell_type": "code",
   "execution_count": null,
   "id": "3a9fc30b-4465-43f3-a3eb-c3139c4b1583",
   "metadata": {},
   "outputs": [],
   "source": [
    "# "
   ]
  }
 ],
 "metadata": {
  "kernelspec": {
   "display_name": "Python 3 (ipykernel)",
   "language": "python",
   "name": "python3"
  },
  "language_info": {
   "codemirror_mode": {
    "name": "ipython",
    "version": 3
   },
   "file_extension": ".py",
   "mimetype": "text/x-python",
   "name": "python",
   "nbconvert_exporter": "python",
   "pygments_lexer": "ipython3",
   "version": "3.11.4"
  }
 },
 "nbformat": 4,
 "nbformat_minor": 5
}
